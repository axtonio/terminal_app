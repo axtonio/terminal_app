{
 "cells": [
  {
   "cell_type": "code",
   "execution_count": 3,
   "id": "b5b0e592",
   "metadata": {},
   "outputs": [
    {
     "data": {
      "text/plain": [
       "'.terminal_global.env'"
      ]
     },
     "execution_count": 3,
     "metadata": {},
     "output_type": "execute_result"
    }
   ],
   "source": [
    "from pathlib import Path\n",
    "\n",
    "Path(\"tests/configs/global/.terminal_global.env.yaml\").stem"
   ]
  },
  {
   "cell_type": "code",
   "execution_count": 8,
   "id": "9e7d98e6",
   "metadata": {},
   "outputs": [
    {
     "name": "stdout",
     "output_type": "stream",
     "text": [
      "True\n",
      "True\n",
      "False\n"
     ]
    },
    {
     "data": {
      "text/plain": [
       "True"
      ]
     },
     "execution_count": 8,
     "metadata": {},
     "output_type": "execute_result"
    }
   ],
   "source": [
    "from distutils.util import strtobool\n",
    "\n",
    "print(strtobool(\"True\"))  # 1\n",
    "print(bool(strtobool(\"True\")))  # True\n",
    "print(bool(strtobool(\"False\")))  # False\n",
    "strtobool(\"true\")"
   ]
  }
 ],
 "metadata": {
  "kernelspec": {
   "display_name": "ta",
   "language": "python",
   "name": "python3"
  },
  "language_info": {
   "codemirror_mode": {
    "name": "ipython",
    "version": 3
   },
   "file_extension": ".py",
   "mimetype": "text/x-python",
   "name": "python",
   "nbconvert_exporter": "python",
   "pygments_lexer": "ipython3",
   "version": "3.12.9"
  }
 },
 "nbformat": 4,
 "nbformat_minor": 5
}
