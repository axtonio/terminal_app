{
 "cells": [
  {
   "cell_type": "code",
   "execution_count": 3,
   "id": "b5b0e592",
   "metadata": {},
   "outputs": [
    {
     "data": {
      "text/plain": [
       "'.terminal_global.env'"
      ]
     },
     "execution_count": 3,
     "metadata": {},
     "output_type": "execute_result"
    }
   ],
   "source": [
    "from pathlib import Path\n",
    "\n",
    "Path(\"tests/configs/global/.terminal_global.env.yaml\").stem"
   ]
  },
  {
   "cell_type": "code",
   "execution_count": null,
   "id": "9e7d98e6",
   "metadata": {},
   "outputs": [],
   "source": []
  }
 ],
 "metadata": {
  "kernelspec": {
   "display_name": "ta",
   "language": "python",
   "name": "python3"
  },
  "language_info": {
   "codemirror_mode": {
    "name": "ipython",
    "version": 3
   },
   "file_extension": ".py",
   "mimetype": "text/x-python",
   "name": "python",
   "nbconvert_exporter": "python",
   "pygments_lexer": "ipython3",
   "version": "3.12.9"
  }
 },
 "nbformat": 4,
 "nbformat_minor": 5
}
